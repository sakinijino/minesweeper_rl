{
  "nbformat": 4,
  "nbformat_minor": 0,
  "metadata": {
    "colab": {
      "provenance": [],
      "gpuType": "T4",
      "authorship_tag": "ABX9TyMBlA6EqYSuGhYLxGeiz9px",
      "include_colab_link": true
    },
    "kernelspec": {
      "name": "python3",
      "display_name": "Python 3"
    },
    "language_info": {
      "name": "python"
    },
    "accelerator": "GPU"
  },
  "cells": [
    {
      "cell_type": "markdown",
      "metadata": {
        "id": "view-in-github",
        "colab_type": "text"
      },
      "source": [
        "<a href=\"https://colab.research.google.com/github/sakinijino/minesweeper_rl/blob/main/playground.ipynb\" target=\"_parent\"><img src=\"https://colab.research.google.com/assets/colab-badge.svg\" alt=\"Open In Colab\"/></a>"
      ]
    },
    {
      "cell_type": "markdown",
      "source": [
        "# Setup and Installation"
      ],
      "metadata": {
        "id": "qO4hT1Wu4NVS"
      }
    },
    {
      "cell_type": "code",
      "execution_count": null,
      "metadata": {
        "collapsed": true,
        "id": "NKVcTnexaat4"
      },
      "outputs": [],
      "source": [
        "!pip install gymnasium stable-baselines3[extra] sb3_contrib pygame\n",
        "!git clone https://github.com/sakinijino/minesweeper_rl.git\n",
        "%cd minesweeper_rl/"
      ]
    },
    {
      "cell_type": "markdown",
      "source": [
        "# Training"
      ],
      "metadata": {
        "id": "1I-aOhED4jww"
      }
    },
    {
      "cell_type": "code",
      "source": [
        "# 加载 TensorBoard Colab 扩展\n",
        "%load_ext tensorboard\n",
        "# 指定你设置的日志目录 (Google Drive 中的路径)\n",
        "%tensorboard --logdir ./logs"
      ],
      "metadata": {
        "id": "vhPdRHX7gRtB"
      },
      "execution_count": null,
      "outputs": []
    },
    {
      "cell_type": "code",
      "source": [
        "!python train.py \\\n",
        "  --total_timesteps 1000000 \\\n",
        "  --n_envs 8 \\\n",
        "  --n_steps 1024 \\\n",
        "  --batch_size 128 \\\n",
        "  --n_epochs 8 \\\n",
        "  --learning_rate 0.00005 \\\n",
        "  --ent_coef 0.01 \\\n",
        "  --gamma 0.98 \\\n",
        "  --gae_lambda 0.80 \\\n",
        "  --clip_range 0.1 \\\n",
        "  --vf_coef 1.0 \\\n",
        "  --features_dim 128 \\\n",
        "  --pi_layers \"64,64\" \\\n",
        "  --vf_layers \"256,256,128\" \\\n",
        "  --checkpoint_freq 50000 \\\n",
        "  --log_dir \"./logs\" \\\n",
        "  --model_dir \"./models\" \\\n",
        "  --model_prefix \"maskedppo_run\" \\\n",
        "  --tb_log_name \"MinesweeperExperiment\" \\\n",
        "  --width 4 \\\n",
        "  --height 4 \\\n",
        "  --n_mines 3 \\\n",
        "  --device \"cuda\" \\\n",
        "  --vec_env_type \"subproc\""
      ],
      "metadata": {
        "id": "NEoYU2nWcSDF"
      },
      "execution_count": null,
      "outputs": []
    },
    {
      "cell_type": "markdown",
      "source": [
        "# Evaluation"
      ],
      "metadata": {
        "id": "IQF-kBCv4m4q"
      }
    },
    {
      "cell_type": "code",
      "source": [
        "!python play.py \\\n",
        "  --batch \\\n",
        "  --num-episodes 200 \\\n",
        "  --model_dir \"./models\" \\\n",
        "  --model_prefix \"maskedppo_run\" \\\n",
        "  --width 4 \\\n",
        "  --height 4 \\\n",
        "  --n_mines 3 \\\n",
        "  --device \"cpu\""
      ],
      "metadata": {
        "id": "O4Y9e6IWgE6w"
      },
      "execution_count": null,
      "outputs": []
    },
    {
      "cell_type": "markdown",
      "source": [
        "# Shortcuts"
      ],
      "metadata": {
        "id": "tdQztSTa4uz_"
      }
    },
    {
      "cell_type": "code",
      "source": [
        "!git pull origin main"
      ],
      "metadata": {
        "collapsed": true,
        "id": "ewDgvzVokYD4"
      },
      "execution_count": null,
      "outputs": []
    },
    {
      "cell_type": "code",
      "source": [
        "!rm -rf ./logs\n",
        "!rm -rf ./models"
      ],
      "metadata": {
        "id": "Beq4lJJWmbC_"
      },
      "execution_count": null,
      "outputs": []
    }
  ]
}