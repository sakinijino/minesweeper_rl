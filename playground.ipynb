{
  "cells": [
    {
      "cell_type": "markdown",
      "metadata": {
        "colab_type": "text",
        "id": "view-in-github"
      },
      "source": [
        "<a href=\"https://colab.research.google.com/github/sakinijino/minesweeper_rl/blob/main/playground.ipynb\" target=\"_parent\"><img src=\"https://colab.research.google.com/assets/colab-badge.svg\" alt=\"Open In Colab\"/></a>"
      ]
    },
    {
      "cell_type": "markdown",
      "metadata": {
        "id": "qO4hT1Wu4NVS"
      },
      "source": [
        "# Setup and Installation"
      ]
    },
    {
      "cell_type": "code",
      "execution_count": null,
      "metadata": {
        "collapsed": true,
        "id": "NKVcTnexaat4"
      },
      "outputs": [],
      "source": [
        "!pip install gymnasium stable-baselines3[extra] sb3_contrib pygame\n",
        "!git clone https://github.com/sakinijino/minesweeper_rl.git\n",
        "%cd minesweeper_rl/"
      ]
    },
    {
      "cell_type": "markdown",
      "metadata": {
        "id": "1I-aOhED4jww"
      },
      "source": [
        "# Training"
      ]
    },
    {
      "cell_type": "code",
      "execution_count": null,
      "metadata": {
        "id": "vhPdRHX7gRtB"
      },
      "outputs": [],
      "source": [
        "# 加载 TensorBoard Colab 扩展\n",
        "%load_ext tensorboard\n",
        "# 指定你设置的日志目录 (Google Drive 中的路径)\n",
        "%tensorboard --logdir ./logs"
      ]
    },
    {
      "cell_type": "code",
      "execution_count": null,
      "metadata": {
        "id": "NEoYU2nWcSDF"
      },
      "outputs": [],
      "source": [
        "!python train.py \\\n",
        "  --total_timesteps 1000000 \\\n",
        "  --n_envs 8 \\\n",
        "  --n_steps 1024 \\\n",
        "  --batch_size 128 \\\n",
        "  --n_epochs 8 \\\n",
        "  --learning_rate 0.00005 \\\n",
        "  --ent_coef 0.01 \\\n",
        "  --gamma 0.98 \\\n",
        "  --gae_lambda 0.80 \\\n",
        "  --clip_range 0.1 \\\n",
        "  --vf_coef 1.0 \\\n",
        "  --features_dim 128 \\\n",
        "  --pi_layers \"64,64\" \\\n",
        "  --vf_layers \"256,256,128\" \\\n",
        "  --checkpoint_freq 50000 \\\n",
        "  --log_dir \"./logs\" \\\n",
        "  --model_dir \"./models\" \\\n",
        "  --model_prefix \"maskedppo_run\" \\\n",
        "  --tb_log_name \"MinesweeperExperiment\" \\\n",
        "  --width 4 \\\n",
        "  --height 4 \\\n",
        "  --n_mines 3 \\\n",
        "  --reward-win 1.0 \\\n",
        "  --reward-lose -1.0 \\\n",
        "  --reward-reveal 0.1 \\\n",
        "  --reward-invalid -0.1 \\\n",
        "  --max-reward-per-step 0.2 \\\n",
        "  --seed 42 \\\n",
        "  --device \"cuda\" \\\n",
        "  --vec_env_type \"subproc\""
      ]
    },
    {
      "cell_type": "markdown",
      "metadata": {
        "id": "IQF-kBCv4m4q"
      },
      "source": [
        "# Evaluation"
      ]
    },
    {
      "cell_type": "code",
      "execution_count": null,
      "metadata": {
        "id": "O4Y9e6IWgE6w"
      },
      "outputs": [],
      "source": [
        "!python play.py \\\n",
        "  --batch \\\n",
        "  --num-episodes 200 \\\n",
        "  --model_dir \"./models\" \\\n",
        "  --model_prefix \"maskedppo_run\" \\\n",
        "  --width 4 \\\n",
        "  --height 4 \\\n",
        "  --n_mines 3 \\\n",
        "  --seed 42 \\\n",
        "  --device \"cpu\""
      ]
    },
    {
      "cell_type": "markdown",
      "metadata": {
        "id": "tdQztSTa4uz_"
      },
      "source": [
        "# Shortcuts"
      ]
    },
    {
      "cell_type": "code",
      "execution_count": null,
      "metadata": {
        "collapsed": true,
        "id": "ewDgvzVokYD4"
      },
      "outputs": [],
      "source": [
        "!git pull origin main"
      ]
    },
    {
      "cell_type": "code",
      "execution_count": null,
      "metadata": {
        "id": "Beq4lJJWmbC_"
      },
      "outputs": [],
      "source": [
        "!rm -rf ./logs\n",
        "!rm -rf ./models"
      ]
    }
  ],
  "metadata": {
    "accelerator": "GPU",
    "colab": {
      "authorship_tag": "ABX9TyMBlA6EqYSuGhYLxGeiz9px",
      "gpuType": "T4",
      "include_colab_link": true,
      "provenance": []
    },
    "kernelspec": {
      "display_name": "Python 3",
      "name": "python3"
    },
    "language_info": {
      "name": "python"
    }
  },
  "nbformat": 4,
  "nbformat_minor": 0
}
