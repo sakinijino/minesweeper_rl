{
 "cells": [
  {
   "cell_type": "markdown",
   "metadata": {
    "colab_type": "text",
    "id": "view-in-github"
   },
   "source": [
    "<a href=\"https://colab.research.google.com/github/sakinijino/minesweeper_rl/blob/main/playground.ipynb\" target=\"_parent\"><img src=\"https://colab.research.google.com/assets/colab-badge.svg\" alt=\"Open In Colab\"/></a>"
   ]
  },
  {
   "cell_type": "markdown",
   "metadata": {
    "id": "qO4hT1Wu4NVS"
   },
   "source": [
    "# Setup and Installation"
   ]
  },
  {
   "cell_type": "code",
   "execution_count": null,
   "metadata": {
    "collapsed": true,
    "id": "NKVcTnexaat4"
   },
   "outputs": [],
   "source": [
    "!pip install gymnasium stable-baselines3[extra] sb3_contrib pygame pytest PyYAML\n",
    "!git clone https://github.com/sakinijino/minesweeper_rl.git\n",
    "%cd minesweeper_rl/"
   ]
  },
  {
   "cell_type": "markdown",
   "metadata": {
    "id": "1I-aOhED4jww"
   },
   "source": [
    "# Training"
   ]
  },
  {
   "cell_type": "code",
   "execution_count": null,
   "metadata": {},
   "outputs": [],
   "source": [
    "from google.colab import drive\n",
    "drive.mount('/content/drive')"
   ]
  },
  {
   "cell_type": "code",
   "execution_count": null,
   "metadata": {
    "id": "vhPdRHX7gRtB"
   },
   "outputs": [],
   "source": [
    "# 加载 TensorBoard Colab 扩展\n",
    "%load_ext tensorboard\n",
    "# 指定你设置的日志目录 (Google Drive 中的路径)\n",
    "%tensorboard --logdir \"/content/drive/MyDrive/Coding/minesweeper_rl/training_runs\""
   ]
  },
  {
   "cell_type": "code",
   "execution_count": null,
   "metadata": {
    "id": "NEoYU2nWcSDF"
   },
   "outputs": [],
   "source": [
    "!python train.py --config configs/colab_config.yaml \\\n",
    "  --total_timesteps 1_000_000 \\\n",
    "  --experiment_base_dir \"/content/drive/MyDrive/Coding/minesweeper_rl/training_runs\""
   ]
  },
  {
   "cell_type": "markdown",
   "metadata": {},
   "source": [
    "# Continue Training"
   ]
  },
  {
   "cell_type": "code",
   "execution_count": null,
   "metadata": {},
   "outputs": [],
   "source": [
    "# Continue training from latest checkpoint in a training run directory\n",
    "!python train.py \\\n",
    "  --continue_from \"/content/drive/MyDrive/Coding/minesweeper_rl/training_runs/mw_ppo_5x5x3_seed42_20250705152544/\" \\\n",
    "  --total_timesteps 1_000_000"
   ]
  },
  {
   "cell_type": "markdown",
   "metadata": {
    "id": "IQF-kBCv4m4q"
   },
   "source": [
    "# Evaluation"
   ]
  },
  {
   "cell_type": "code",
   "execution_count": null,
   "metadata": {
    "id": "O4Y9e6IWgE6w"
   },
   "outputs": [],
   "source": [
    "!python play.py \\\n",
    "  --mode batch \\\n",
    "  --training_run_dir \"/content/drive/MyDrive/Coding/minesweeper_rl/training_runs\""
   ]
  },
  {
   "cell_type": "markdown",
   "metadata": {
    "id": "tdQztSTa4uz_"
   },
   "source": [
    "# Shortcuts"
   ]
  },
  {
   "cell_type": "code",
   "execution_count": null,
   "metadata": {
    "collapsed": true,
    "id": "ewDgvzVokYD4"
   },
   "outputs": [],
   "source": [
    "!git pull origin main"
   ]
  }
 ],
 "metadata": {
  "accelerator": "GPU",
  "colab": {
   "authorship_tag": "ABX9TyMBlA6EqYSuGhYLxGeiz9px",
   "gpuType": "T4",
   "include_colab_link": true,
   "provenance": []
  },
  "kernelspec": {
   "display_name": "Python 3",
   "name": "python3"
  },
  "language_info": {
   "name": "python"
  }
 },
 "nbformat": 4,
 "nbformat_minor": 0
}
